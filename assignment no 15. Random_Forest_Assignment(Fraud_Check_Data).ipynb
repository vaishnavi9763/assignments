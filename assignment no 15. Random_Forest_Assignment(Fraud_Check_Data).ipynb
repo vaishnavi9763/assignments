{
  "nbformat": 4,
  "nbformat_minor": 0,
  "metadata": {
    "colab": {
      "provenance": []
    },
    "kernelspec": {
      "name": "python3",
      "display_name": "Python 3"
    },
    "language_info": {
      "name": "python"
    }
  },
  "cells": [
    {
      "cell_type": "markdown",
      "source": [
        "**Use Random Forest to prepare a model on fraud data, treating those who have taxable_income <= 30000 as \"Risky\" and others are \"Good\"**"
      ],
      "metadata": {
        "id": "5zp-TX3T1zJy"
      }
    },
    {
      "cell_type": "code",
      "execution_count": 1,
      "metadata": {
        "id": "eUPE20G51fAP"
      },
      "outputs": [],
      "source": [
        "# Importing Libraries\n",
        "import pandas as pd\n",
        "import numpy as np\n",
        "import matplotlib.pyplot as plt\n",
        "import seaborn as sns\n",
        "\n",
        "from sklearn.preprocessing import StandardScaler, LabelEncoder\n",
        "from sklearn.ensemble import RandomForestClassifier\n",
        "from sklearn import tree\n",
        "from sklearn.metrics import f1_score, precision_score, recall_score, classification_report,confusion_matrix,accuracy_score, roc_auc_score, roc_curve, precision_recall_curve\n",
        "from sklearn.model_selection import GridSearchCV, KFold, StratifiedKFold, cross_val_score, train_test_split, RandomizedSearchCV\n",
        "\n",
        "import warnings\n",
        "warnings.filterwarnings('ignore')"
      ]
    },
    {
      "cell_type": "code",
      "source": [
        "from google.colab import files\n",
        "uploaded=files.upload()"
      ],
      "metadata": {
        "colab": {
          "base_uri": "https://localhost:8080/",
          "height": 73
        },
        "id": "YAo_F3U916hJ",
        "outputId": "3460f003-2ed3-4543-873d-b152526d8823"
      },
      "execution_count": 2,
      "outputs": [
        {
          "output_type": "display_data",
          "data": {
            "text/plain": [
              "<IPython.core.display.HTML object>"
            ],
            "text/html": [
              "\n",
              "     <input type=\"file\" id=\"files-ca32e6e4-3fa6-4c25-831a-b9e4fc13e480\" name=\"files[]\" multiple disabled\n",
              "        style=\"border:none\" />\n",
              "     <output id=\"result-ca32e6e4-3fa6-4c25-831a-b9e4fc13e480\">\n",
              "      Upload widget is only available when the cell has been executed in the\n",
              "      current browser session. Please rerun this cell to enable.\n",
              "      </output>\n",
              "      <script>// Copyright 2017 Google LLC\n",
              "//\n",
              "// Licensed under the Apache License, Version 2.0 (the \"License\");\n",
              "// you may not use this file except in compliance with the License.\n",
              "// You may obtain a copy of the License at\n",
              "//\n",
              "//      http://www.apache.org/licenses/LICENSE-2.0\n",
              "//\n",
              "// Unless required by applicable law or agreed to in writing, software\n",
              "// distributed under the License is distributed on an \"AS IS\" BASIS,\n",
              "// WITHOUT WARRANTIES OR CONDITIONS OF ANY KIND, either express or implied.\n",
              "// See the License for the specific language governing permissions and\n",
              "// limitations under the License.\n",
              "\n",
              "/**\n",
              " * @fileoverview Helpers for google.colab Python module.\n",
              " */\n",
              "(function(scope) {\n",
              "function span(text, styleAttributes = {}) {\n",
              "  const element = document.createElement('span');\n",
              "  element.textContent = text;\n",
              "  for (const key of Object.keys(styleAttributes)) {\n",
              "    element.style[key] = styleAttributes[key];\n",
              "  }\n",
              "  return element;\n",
              "}\n",
              "\n",
              "// Max number of bytes which will be uploaded at a time.\n",
              "const MAX_PAYLOAD_SIZE = 100 * 1024;\n",
              "\n",
              "function _uploadFiles(inputId, outputId) {\n",
              "  const steps = uploadFilesStep(inputId, outputId);\n",
              "  const outputElement = document.getElementById(outputId);\n",
              "  // Cache steps on the outputElement to make it available for the next call\n",
              "  // to uploadFilesContinue from Python.\n",
              "  outputElement.steps = steps;\n",
              "\n",
              "  return _uploadFilesContinue(outputId);\n",
              "}\n",
              "\n",
              "// This is roughly an async generator (not supported in the browser yet),\n",
              "// where there are multiple asynchronous steps and the Python side is going\n",
              "// to poll for completion of each step.\n",
              "// This uses a Promise to block the python side on completion of each step,\n",
              "// then passes the result of the previous step as the input to the next step.\n",
              "function _uploadFilesContinue(outputId) {\n",
              "  const outputElement = document.getElementById(outputId);\n",
              "  const steps = outputElement.steps;\n",
              "\n",
              "  const next = steps.next(outputElement.lastPromiseValue);\n",
              "  return Promise.resolve(next.value.promise).then((value) => {\n",
              "    // Cache the last promise value to make it available to the next\n",
              "    // step of the generator.\n",
              "    outputElement.lastPromiseValue = value;\n",
              "    return next.value.response;\n",
              "  });\n",
              "}\n",
              "\n",
              "/**\n",
              " * Generator function which is called between each async step of the upload\n",
              " * process.\n",
              " * @param {string} inputId Element ID of the input file picker element.\n",
              " * @param {string} outputId Element ID of the output display.\n",
              " * @return {!Iterable<!Object>} Iterable of next steps.\n",
              " */\n",
              "function* uploadFilesStep(inputId, outputId) {\n",
              "  const inputElement = document.getElementById(inputId);\n",
              "  inputElement.disabled = false;\n",
              "\n",
              "  const outputElement = document.getElementById(outputId);\n",
              "  outputElement.innerHTML = '';\n",
              "\n",
              "  const pickedPromise = new Promise((resolve) => {\n",
              "    inputElement.addEventListener('change', (e) => {\n",
              "      resolve(e.target.files);\n",
              "    });\n",
              "  });\n",
              "\n",
              "  const cancel = document.createElement('button');\n",
              "  inputElement.parentElement.appendChild(cancel);\n",
              "  cancel.textContent = 'Cancel upload';\n",
              "  const cancelPromise = new Promise((resolve) => {\n",
              "    cancel.onclick = () => {\n",
              "      resolve(null);\n",
              "    };\n",
              "  });\n",
              "\n",
              "  // Wait for the user to pick the files.\n",
              "  const files = yield {\n",
              "    promise: Promise.race([pickedPromise, cancelPromise]),\n",
              "    response: {\n",
              "      action: 'starting',\n",
              "    }\n",
              "  };\n",
              "\n",
              "  cancel.remove();\n",
              "\n",
              "  // Disable the input element since further picks are not allowed.\n",
              "  inputElement.disabled = true;\n",
              "\n",
              "  if (!files) {\n",
              "    return {\n",
              "      response: {\n",
              "        action: 'complete',\n",
              "      }\n",
              "    };\n",
              "  }\n",
              "\n",
              "  for (const file of files) {\n",
              "    const li = document.createElement('li');\n",
              "    li.append(span(file.name, {fontWeight: 'bold'}));\n",
              "    li.append(span(\n",
              "        `(${file.type || 'n/a'}) - ${file.size} bytes, ` +\n",
              "        `last modified: ${\n",
              "            file.lastModifiedDate ? file.lastModifiedDate.toLocaleDateString() :\n",
              "                                    'n/a'} - `));\n",
              "    const percent = span('0% done');\n",
              "    li.appendChild(percent);\n",
              "\n",
              "    outputElement.appendChild(li);\n",
              "\n",
              "    const fileDataPromise = new Promise((resolve) => {\n",
              "      const reader = new FileReader();\n",
              "      reader.onload = (e) => {\n",
              "        resolve(e.target.result);\n",
              "      };\n",
              "      reader.readAsArrayBuffer(file);\n",
              "    });\n",
              "    // Wait for the data to be ready.\n",
              "    let fileData = yield {\n",
              "      promise: fileDataPromise,\n",
              "      response: {\n",
              "        action: 'continue',\n",
              "      }\n",
              "    };\n",
              "\n",
              "    // Use a chunked sending to avoid message size limits. See b/62115660.\n",
              "    let position = 0;\n",
              "    do {\n",
              "      const length = Math.min(fileData.byteLength - position, MAX_PAYLOAD_SIZE);\n",
              "      const chunk = new Uint8Array(fileData, position, length);\n",
              "      position += length;\n",
              "\n",
              "      const base64 = btoa(String.fromCharCode.apply(null, chunk));\n",
              "      yield {\n",
              "        response: {\n",
              "          action: 'append',\n",
              "          file: file.name,\n",
              "          data: base64,\n",
              "        },\n",
              "      };\n",
              "\n",
              "      let percentDone = fileData.byteLength === 0 ?\n",
              "          100 :\n",
              "          Math.round((position / fileData.byteLength) * 100);\n",
              "      percent.textContent = `${percentDone}% done`;\n",
              "\n",
              "    } while (position < fileData.byteLength);\n",
              "  }\n",
              "\n",
              "  // All done.\n",
              "  yield {\n",
              "    response: {\n",
              "      action: 'complete',\n",
              "    }\n",
              "  };\n",
              "}\n",
              "\n",
              "scope.google = scope.google || {};\n",
              "scope.google.colab = scope.google.colab || {};\n",
              "scope.google.colab._files = {\n",
              "  _uploadFiles,\n",
              "  _uploadFilesContinue,\n",
              "};\n",
              "})(self);\n",
              "</script> "
            ]
          },
          "metadata": {}
        },
        {
          "output_type": "stream",
          "name": "stdout",
          "text": [
            "Saving Fraud_check.csv to Fraud_check.csv\n"
          ]
        }
      ]
    },
    {
      "cell_type": "code",
      "source": [
        "#Loading dataset\n",
        "data = pd.read_csv('Fraud_check.csv')\n",
        "data.head()  "
      ],
      "metadata": {
        "colab": {
          "base_uri": "https://localhost:8080/",
          "height": 206
        },
        "id": "kb-CqSL12DWt",
        "outputId": "c3fd7bdd-8b80-4c1c-ef66-506ebe3bd63b"
      },
      "execution_count": 3,
      "outputs": [
        {
          "output_type": "execute_result",
          "data": {
            "text/plain": [
              "  Undergrad Marital.Status  Taxable.Income  City.Population  Work.Experience  \\\n",
              "0        NO         Single           68833            50047               10   \n",
              "1       YES       Divorced           33700           134075               18   \n",
              "2        NO        Married           36925           160205               30   \n",
              "3       YES         Single           50190           193264               15   \n",
              "4        NO        Married           81002            27533               28   \n",
              "\n",
              "  Urban  \n",
              "0   YES  \n",
              "1   YES  \n",
              "2   YES  \n",
              "3   YES  \n",
              "4    NO  "
            ],
            "text/html": [
              "\n",
              "  <div id=\"df-273ce2e0-875e-4723-b4c8-b34deb446c9f\">\n",
              "    <div class=\"colab-df-container\">\n",
              "      <div>\n",
              "<style scoped>\n",
              "    .dataframe tbody tr th:only-of-type {\n",
              "        vertical-align: middle;\n",
              "    }\n",
              "\n",
              "    .dataframe tbody tr th {\n",
              "        vertical-align: top;\n",
              "    }\n",
              "\n",
              "    .dataframe thead th {\n",
              "        text-align: right;\n",
              "    }\n",
              "</style>\n",
              "<table border=\"1\" class=\"dataframe\">\n",
              "  <thead>\n",
              "    <tr style=\"text-align: right;\">\n",
              "      <th></th>\n",
              "      <th>Undergrad</th>\n",
              "      <th>Marital.Status</th>\n",
              "      <th>Taxable.Income</th>\n",
              "      <th>City.Population</th>\n",
              "      <th>Work.Experience</th>\n",
              "      <th>Urban</th>\n",
              "    </tr>\n",
              "  </thead>\n",
              "  <tbody>\n",
              "    <tr>\n",
              "      <th>0</th>\n",
              "      <td>NO</td>\n",
              "      <td>Single</td>\n",
              "      <td>68833</td>\n",
              "      <td>50047</td>\n",
              "      <td>10</td>\n",
              "      <td>YES</td>\n",
              "    </tr>\n",
              "    <tr>\n",
              "      <th>1</th>\n",
              "      <td>YES</td>\n",
              "      <td>Divorced</td>\n",
              "      <td>33700</td>\n",
              "      <td>134075</td>\n",
              "      <td>18</td>\n",
              "      <td>YES</td>\n",
              "    </tr>\n",
              "    <tr>\n",
              "      <th>2</th>\n",
              "      <td>NO</td>\n",
              "      <td>Married</td>\n",
              "      <td>36925</td>\n",
              "      <td>160205</td>\n",
              "      <td>30</td>\n",
              "      <td>YES</td>\n",
              "    </tr>\n",
              "    <tr>\n",
              "      <th>3</th>\n",
              "      <td>YES</td>\n",
              "      <td>Single</td>\n",
              "      <td>50190</td>\n",
              "      <td>193264</td>\n",
              "      <td>15</td>\n",
              "      <td>YES</td>\n",
              "    </tr>\n",
              "    <tr>\n",
              "      <th>4</th>\n",
              "      <td>NO</td>\n",
              "      <td>Married</td>\n",
              "      <td>81002</td>\n",
              "      <td>27533</td>\n",
              "      <td>28</td>\n",
              "      <td>NO</td>\n",
              "    </tr>\n",
              "  </tbody>\n",
              "</table>\n",
              "</div>\n",
              "      <button class=\"colab-df-convert\" onclick=\"convertToInteractive('df-273ce2e0-875e-4723-b4c8-b34deb446c9f')\"\n",
              "              title=\"Convert this dataframe to an interactive table.\"\n",
              "              style=\"display:none;\">\n",
              "        \n",
              "  <svg xmlns=\"http://www.w3.org/2000/svg\" height=\"24px\"viewBox=\"0 0 24 24\"\n",
              "       width=\"24px\">\n",
              "    <path d=\"M0 0h24v24H0V0z\" fill=\"none\"/>\n",
              "    <path d=\"M18.56 5.44l.94 2.06.94-2.06 2.06-.94-2.06-.94-.94-2.06-.94 2.06-2.06.94zm-11 1L8.5 8.5l.94-2.06 2.06-.94-2.06-.94L8.5 2.5l-.94 2.06-2.06.94zm10 10l.94 2.06.94-2.06 2.06-.94-2.06-.94-.94-2.06-.94 2.06-2.06.94z\"/><path d=\"M17.41 7.96l-1.37-1.37c-.4-.4-.92-.59-1.43-.59-.52 0-1.04.2-1.43.59L10.3 9.45l-7.72 7.72c-.78.78-.78 2.05 0 2.83L4 21.41c.39.39.9.59 1.41.59.51 0 1.02-.2 1.41-.59l7.78-7.78 2.81-2.81c.8-.78.8-2.07 0-2.86zM5.41 20L4 18.59l7.72-7.72 1.47 1.35L5.41 20z\"/>\n",
              "  </svg>\n",
              "      </button>\n",
              "      \n",
              "  <style>\n",
              "    .colab-df-container {\n",
              "      display:flex;\n",
              "      flex-wrap:wrap;\n",
              "      gap: 12px;\n",
              "    }\n",
              "\n",
              "    .colab-df-convert {\n",
              "      background-color: #E8F0FE;\n",
              "      border: none;\n",
              "      border-radius: 50%;\n",
              "      cursor: pointer;\n",
              "      display: none;\n",
              "      fill: #1967D2;\n",
              "      height: 32px;\n",
              "      padding: 0 0 0 0;\n",
              "      width: 32px;\n",
              "    }\n",
              "\n",
              "    .colab-df-convert:hover {\n",
              "      background-color: #E2EBFA;\n",
              "      box-shadow: 0px 1px 2px rgba(60, 64, 67, 0.3), 0px 1px 3px 1px rgba(60, 64, 67, 0.15);\n",
              "      fill: #174EA6;\n",
              "    }\n",
              "\n",
              "    [theme=dark] .colab-df-convert {\n",
              "      background-color: #3B4455;\n",
              "      fill: #D2E3FC;\n",
              "    }\n",
              "\n",
              "    [theme=dark] .colab-df-convert:hover {\n",
              "      background-color: #434B5C;\n",
              "      box-shadow: 0px 1px 3px 1px rgba(0, 0, 0, 0.15);\n",
              "      filter: drop-shadow(0px 1px 2px rgba(0, 0, 0, 0.3));\n",
              "      fill: #FFFFFF;\n",
              "    }\n",
              "  </style>\n",
              "\n",
              "      <script>\n",
              "        const buttonEl =\n",
              "          document.querySelector('#df-273ce2e0-875e-4723-b4c8-b34deb446c9f button.colab-df-convert');\n",
              "        buttonEl.style.display =\n",
              "          google.colab.kernel.accessAllowed ? 'block' : 'none';\n",
              "\n",
              "        async function convertToInteractive(key) {\n",
              "          const element = document.querySelector('#df-273ce2e0-875e-4723-b4c8-b34deb446c9f');\n",
              "          const dataTable =\n",
              "            await google.colab.kernel.invokeFunction('convertToInteractive',\n",
              "                                                     [key], {});\n",
              "          if (!dataTable) return;\n",
              "\n",
              "          const docLinkHtml = 'Like what you see? Visit the ' +\n",
              "            '<a target=\"_blank\" href=https://colab.research.google.com/notebooks/data_table.ipynb>data table notebook</a>'\n",
              "            + ' to learn more about interactive tables.';\n",
              "          element.innerHTML = '';\n",
              "          dataTable['output_type'] = 'display_data';\n",
              "          await google.colab.output.renderOutput(dataTable, element);\n",
              "          const docLink = document.createElement('div');\n",
              "          docLink.innerHTML = docLinkHtml;\n",
              "          element.appendChild(docLink);\n",
              "        }\n",
              "      </script>\n",
              "    </div>\n",
              "  </div>\n",
              "  "
            ]
          },
          "metadata": {},
          "execution_count": 3
        }
      ]
    },
    {
      "cell_type": "code",
      "source": [
        "data.describe()"
      ],
      "metadata": {
        "colab": {
          "base_uri": "https://localhost:8080/",
          "height": 300
        },
        "id": "UNkX3Wdq2cpd",
        "outputId": "04c711f6-dd24-4dbc-ef27-b9519c2daaa5"
      },
      "execution_count": 4,
      "outputs": [
        {
          "output_type": "execute_result",
          "data": {
            "text/plain": [
              "       Taxable.Income  City.Population  Work.Experience\n",
              "count      600.000000       600.000000       600.000000\n",
              "mean     55208.375000    108747.368333        15.558333\n",
              "std      26204.827597     49850.075134         8.842147\n",
              "min      10003.000000     25779.000000         0.000000\n",
              "25%      32871.500000     66966.750000         8.000000\n",
              "50%      55074.500000    106493.500000        15.000000\n",
              "75%      78611.750000    150114.250000        24.000000\n",
              "max      99619.000000    199778.000000        30.000000"
            ],
            "text/html": [
              "\n",
              "  <div id=\"df-28fb283a-ce65-4b49-bdbe-e4ac3cdde917\">\n",
              "    <div class=\"colab-df-container\">\n",
              "      <div>\n",
              "<style scoped>\n",
              "    .dataframe tbody tr th:only-of-type {\n",
              "        vertical-align: middle;\n",
              "    }\n",
              "\n",
              "    .dataframe tbody tr th {\n",
              "        vertical-align: top;\n",
              "    }\n",
              "\n",
              "    .dataframe thead th {\n",
              "        text-align: right;\n",
              "    }\n",
              "</style>\n",
              "<table border=\"1\" class=\"dataframe\">\n",
              "  <thead>\n",
              "    <tr style=\"text-align: right;\">\n",
              "      <th></th>\n",
              "      <th>Taxable.Income</th>\n",
              "      <th>City.Population</th>\n",
              "      <th>Work.Experience</th>\n",
              "    </tr>\n",
              "  </thead>\n",
              "  <tbody>\n",
              "    <tr>\n",
              "      <th>count</th>\n",
              "      <td>600.000000</td>\n",
              "      <td>600.000000</td>\n",
              "      <td>600.000000</td>\n",
              "    </tr>\n",
              "    <tr>\n",
              "      <th>mean</th>\n",
              "      <td>55208.375000</td>\n",
              "      <td>108747.368333</td>\n",
              "      <td>15.558333</td>\n",
              "    </tr>\n",
              "    <tr>\n",
              "      <th>std</th>\n",
              "      <td>26204.827597</td>\n",
              "      <td>49850.075134</td>\n",
              "      <td>8.842147</td>\n",
              "    </tr>\n",
              "    <tr>\n",
              "      <th>min</th>\n",
              "      <td>10003.000000</td>\n",
              "      <td>25779.000000</td>\n",
              "      <td>0.000000</td>\n",
              "    </tr>\n",
              "    <tr>\n",
              "      <th>25%</th>\n",
              "      <td>32871.500000</td>\n",
              "      <td>66966.750000</td>\n",
              "      <td>8.000000</td>\n",
              "    </tr>\n",
              "    <tr>\n",
              "      <th>50%</th>\n",
              "      <td>55074.500000</td>\n",
              "      <td>106493.500000</td>\n",
              "      <td>15.000000</td>\n",
              "    </tr>\n",
              "    <tr>\n",
              "      <th>75%</th>\n",
              "      <td>78611.750000</td>\n",
              "      <td>150114.250000</td>\n",
              "      <td>24.000000</td>\n",
              "    </tr>\n",
              "    <tr>\n",
              "      <th>max</th>\n",
              "      <td>99619.000000</td>\n",
              "      <td>199778.000000</td>\n",
              "      <td>30.000000</td>\n",
              "    </tr>\n",
              "  </tbody>\n",
              "</table>\n",
              "</div>\n",
              "      <button class=\"colab-df-convert\" onclick=\"convertToInteractive('df-28fb283a-ce65-4b49-bdbe-e4ac3cdde917')\"\n",
              "              title=\"Convert this dataframe to an interactive table.\"\n",
              "              style=\"display:none;\">\n",
              "        \n",
              "  <svg xmlns=\"http://www.w3.org/2000/svg\" height=\"24px\"viewBox=\"0 0 24 24\"\n",
              "       width=\"24px\">\n",
              "    <path d=\"M0 0h24v24H0V0z\" fill=\"none\"/>\n",
              "    <path d=\"M18.56 5.44l.94 2.06.94-2.06 2.06-.94-2.06-.94-.94-2.06-.94 2.06-2.06.94zm-11 1L8.5 8.5l.94-2.06 2.06-.94-2.06-.94L8.5 2.5l-.94 2.06-2.06.94zm10 10l.94 2.06.94-2.06 2.06-.94-2.06-.94-.94-2.06-.94 2.06-2.06.94z\"/><path d=\"M17.41 7.96l-1.37-1.37c-.4-.4-.92-.59-1.43-.59-.52 0-1.04.2-1.43.59L10.3 9.45l-7.72 7.72c-.78.78-.78 2.05 0 2.83L4 21.41c.39.39.9.59 1.41.59.51 0 1.02-.2 1.41-.59l7.78-7.78 2.81-2.81c.8-.78.8-2.07 0-2.86zM5.41 20L4 18.59l7.72-7.72 1.47 1.35L5.41 20z\"/>\n",
              "  </svg>\n",
              "      </button>\n",
              "      \n",
              "  <style>\n",
              "    .colab-df-container {\n",
              "      display:flex;\n",
              "      flex-wrap:wrap;\n",
              "      gap: 12px;\n",
              "    }\n",
              "\n",
              "    .colab-df-convert {\n",
              "      background-color: #E8F0FE;\n",
              "      border: none;\n",
              "      border-radius: 50%;\n",
              "      cursor: pointer;\n",
              "      display: none;\n",
              "      fill: #1967D2;\n",
              "      height: 32px;\n",
              "      padding: 0 0 0 0;\n",
              "      width: 32px;\n",
              "    }\n",
              "\n",
              "    .colab-df-convert:hover {\n",
              "      background-color: #E2EBFA;\n",
              "      box-shadow: 0px 1px 2px rgba(60, 64, 67, 0.3), 0px 1px 3px 1px rgba(60, 64, 67, 0.15);\n",
              "      fill: #174EA6;\n",
              "    }\n",
              "\n",
              "    [theme=dark] .colab-df-convert {\n",
              "      background-color: #3B4455;\n",
              "      fill: #D2E3FC;\n",
              "    }\n",
              "\n",
              "    [theme=dark] .colab-df-convert:hover {\n",
              "      background-color: #434B5C;\n",
              "      box-shadow: 0px 1px 3px 1px rgba(0, 0, 0, 0.15);\n",
              "      filter: drop-shadow(0px 1px 2px rgba(0, 0, 0, 0.3));\n",
              "      fill: #FFFFFF;\n",
              "    }\n",
              "  </style>\n",
              "\n",
              "      <script>\n",
              "        const buttonEl =\n",
              "          document.querySelector('#df-28fb283a-ce65-4b49-bdbe-e4ac3cdde917 button.colab-df-convert');\n",
              "        buttonEl.style.display =\n",
              "          google.colab.kernel.accessAllowed ? 'block' : 'none';\n",
              "\n",
              "        async function convertToInteractive(key) {\n",
              "          const element = document.querySelector('#df-28fb283a-ce65-4b49-bdbe-e4ac3cdde917');\n",
              "          const dataTable =\n",
              "            await google.colab.kernel.invokeFunction('convertToInteractive',\n",
              "                                                     [key], {});\n",
              "          if (!dataTable) return;\n",
              "\n",
              "          const docLinkHtml = 'Like what you see? Visit the ' +\n",
              "            '<a target=\"_blank\" href=https://colab.research.google.com/notebooks/data_table.ipynb>data table notebook</a>'\n",
              "            + ' to learn more about interactive tables.';\n",
              "          element.innerHTML = '';\n",
              "          dataTable['output_type'] = 'display_data';\n",
              "          await google.colab.output.renderOutput(dataTable, element);\n",
              "          const docLink = document.createElement('div');\n",
              "          docLink.innerHTML = docLinkHtml;\n",
              "          element.appendChild(docLink);\n",
              "        }\n",
              "      </script>\n",
              "    </div>\n",
              "  </div>\n",
              "  "
            ]
          },
          "metadata": {},
          "execution_count": 4
        }
      ]
    },
    {
      "cell_type": "code",
      "source": [
        "data.info()"
      ],
      "metadata": {
        "colab": {
          "base_uri": "https://localhost:8080/"
        },
        "id": "Tv2yfRjo2ghn",
        "outputId": "a3c33567-e996-4095-e359-5980790c7094"
      },
      "execution_count": 5,
      "outputs": [
        {
          "output_type": "stream",
          "name": "stdout",
          "text": [
            "<class 'pandas.core.frame.DataFrame'>\n",
            "RangeIndex: 600 entries, 0 to 599\n",
            "Data columns (total 6 columns):\n",
            " #   Column           Non-Null Count  Dtype \n",
            "---  ------           --------------  ----- \n",
            " 0   Undergrad        600 non-null    object\n",
            " 1   Marital.Status   600 non-null    object\n",
            " 2   Taxable.Income   600 non-null    int64 \n",
            " 3   City.Population  600 non-null    int64 \n",
            " 4   Work.Experience  600 non-null    int64 \n",
            " 5   Urban            600 non-null    object\n",
            "dtypes: int64(3), object(3)\n",
            "memory usage: 28.2+ KB\n"
          ]
        }
      ]
    },
    {
      "cell_type": "markdown",
      "source": [
        "**Feature Enginering**"
      ],
      "metadata": {
        "id": "mp_I7YnI2l06"
      }
    },
    {
      "cell_type": "code",
      "source": [
        "# Treating those who have taxable_income <= 30000 as \"Risky\" and others are \"Good\"\n",
        "\n",
        "data1 = data.copy()\n",
        "\n",
        "list = []\n",
        "for i in range (0, len(data)):\n",
        "    if data['Taxable.Income'][i] <= 30000:\n",
        "        list.append('Risky')\n",
        "    elif data['Taxable.Income'][i] > 30000:\n",
        "        list.append('Good')\n",
        "\n",
        "data1['loan_asset_type'] = list\n",
        "\n",
        "data1 "
      ],
      "metadata": {
        "colab": {
          "base_uri": "https://localhost:8080/",
          "height": 424
        },
        "id": "FuINNkra2ilQ",
        "outputId": "47eced31-680a-41f3-fd6e-3788df708f69"
      },
      "execution_count": 6,
      "outputs": [
        {
          "output_type": "execute_result",
          "data": {
            "text/plain": [
              "    Undergrad Marital.Status  Taxable.Income  City.Population  \\\n",
              "0          NO         Single           68833            50047   \n",
              "1         YES       Divorced           33700           134075   \n",
              "2          NO        Married           36925           160205   \n",
              "3         YES         Single           50190           193264   \n",
              "4          NO        Married           81002            27533   \n",
              "..        ...            ...             ...              ...   \n",
              "595       YES       Divorced           76340            39492   \n",
              "596       YES       Divorced           69967            55369   \n",
              "597        NO       Divorced           47334           154058   \n",
              "598       YES        Married           98592           180083   \n",
              "599        NO       Divorced           96519           158137   \n",
              "\n",
              "     Work.Experience Urban loan_asset_type  \n",
              "0                 10   YES            Good  \n",
              "1                 18   YES            Good  \n",
              "2                 30   YES            Good  \n",
              "3                 15   YES            Good  \n",
              "4                 28    NO            Good  \n",
              "..               ...   ...             ...  \n",
              "595                7   YES            Good  \n",
              "596                2   YES            Good  \n",
              "597                0   YES            Good  \n",
              "598               17    NO            Good  \n",
              "599               16    NO            Good  \n",
              "\n",
              "[600 rows x 7 columns]"
            ],
            "text/html": [
              "\n",
              "  <div id=\"df-57e0cec6-9121-4ac8-b880-b633c76e9622\">\n",
              "    <div class=\"colab-df-container\">\n",
              "      <div>\n",
              "<style scoped>\n",
              "    .dataframe tbody tr th:only-of-type {\n",
              "        vertical-align: middle;\n",
              "    }\n",
              "\n",
              "    .dataframe tbody tr th {\n",
              "        vertical-align: top;\n",
              "    }\n",
              "\n",
              "    .dataframe thead th {\n",
              "        text-align: right;\n",
              "    }\n",
              "</style>\n",
              "<table border=\"1\" class=\"dataframe\">\n",
              "  <thead>\n",
              "    <tr style=\"text-align: right;\">\n",
              "      <th></th>\n",
              "      <th>Undergrad</th>\n",
              "      <th>Marital.Status</th>\n",
              "      <th>Taxable.Income</th>\n",
              "      <th>City.Population</th>\n",
              "      <th>Work.Experience</th>\n",
              "      <th>Urban</th>\n",
              "      <th>loan_asset_type</th>\n",
              "    </tr>\n",
              "  </thead>\n",
              "  <tbody>\n",
              "    <tr>\n",
              "      <th>0</th>\n",
              "      <td>NO</td>\n",
              "      <td>Single</td>\n",
              "      <td>68833</td>\n",
              "      <td>50047</td>\n",
              "      <td>10</td>\n",
              "      <td>YES</td>\n",
              "      <td>Good</td>\n",
              "    </tr>\n",
              "    <tr>\n",
              "      <th>1</th>\n",
              "      <td>YES</td>\n",
              "      <td>Divorced</td>\n",
              "      <td>33700</td>\n",
              "      <td>134075</td>\n",
              "      <td>18</td>\n",
              "      <td>YES</td>\n",
              "      <td>Good</td>\n",
              "    </tr>\n",
              "    <tr>\n",
              "      <th>2</th>\n",
              "      <td>NO</td>\n",
              "      <td>Married</td>\n",
              "      <td>36925</td>\n",
              "      <td>160205</td>\n",
              "      <td>30</td>\n",
              "      <td>YES</td>\n",
              "      <td>Good</td>\n",
              "    </tr>\n",
              "    <tr>\n",
              "      <th>3</th>\n",
              "      <td>YES</td>\n",
              "      <td>Single</td>\n",
              "      <td>50190</td>\n",
              "      <td>193264</td>\n",
              "      <td>15</td>\n",
              "      <td>YES</td>\n",
              "      <td>Good</td>\n",
              "    </tr>\n",
              "    <tr>\n",
              "      <th>4</th>\n",
              "      <td>NO</td>\n",
              "      <td>Married</td>\n",
              "      <td>81002</td>\n",
              "      <td>27533</td>\n",
              "      <td>28</td>\n",
              "      <td>NO</td>\n",
              "      <td>Good</td>\n",
              "    </tr>\n",
              "    <tr>\n",
              "      <th>...</th>\n",
              "      <td>...</td>\n",
              "      <td>...</td>\n",
              "      <td>...</td>\n",
              "      <td>...</td>\n",
              "      <td>...</td>\n",
              "      <td>...</td>\n",
              "      <td>...</td>\n",
              "    </tr>\n",
              "    <tr>\n",
              "      <th>595</th>\n",
              "      <td>YES</td>\n",
              "      <td>Divorced</td>\n",
              "      <td>76340</td>\n",
              "      <td>39492</td>\n",
              "      <td>7</td>\n",
              "      <td>YES</td>\n",
              "      <td>Good</td>\n",
              "    </tr>\n",
              "    <tr>\n",
              "      <th>596</th>\n",
              "      <td>YES</td>\n",
              "      <td>Divorced</td>\n",
              "      <td>69967</td>\n",
              "      <td>55369</td>\n",
              "      <td>2</td>\n",
              "      <td>YES</td>\n",
              "      <td>Good</td>\n",
              "    </tr>\n",
              "    <tr>\n",
              "      <th>597</th>\n",
              "      <td>NO</td>\n",
              "      <td>Divorced</td>\n",
              "      <td>47334</td>\n",
              "      <td>154058</td>\n",
              "      <td>0</td>\n",
              "      <td>YES</td>\n",
              "      <td>Good</td>\n",
              "    </tr>\n",
              "    <tr>\n",
              "      <th>598</th>\n",
              "      <td>YES</td>\n",
              "      <td>Married</td>\n",
              "      <td>98592</td>\n",
              "      <td>180083</td>\n",
              "      <td>17</td>\n",
              "      <td>NO</td>\n",
              "      <td>Good</td>\n",
              "    </tr>\n",
              "    <tr>\n",
              "      <th>599</th>\n",
              "      <td>NO</td>\n",
              "      <td>Divorced</td>\n",
              "      <td>96519</td>\n",
              "      <td>158137</td>\n",
              "      <td>16</td>\n",
              "      <td>NO</td>\n",
              "      <td>Good</td>\n",
              "    </tr>\n",
              "  </tbody>\n",
              "</table>\n",
              "<p>600 rows × 7 columns</p>\n",
              "</div>\n",
              "      <button class=\"colab-df-convert\" onclick=\"convertToInteractive('df-57e0cec6-9121-4ac8-b880-b633c76e9622')\"\n",
              "              title=\"Convert this dataframe to an interactive table.\"\n",
              "              style=\"display:none;\">\n",
              "        \n",
              "  <svg xmlns=\"http://www.w3.org/2000/svg\" height=\"24px\"viewBox=\"0 0 24 24\"\n",
              "       width=\"24px\">\n",
              "    <path d=\"M0 0h24v24H0V0z\" fill=\"none\"/>\n",
              "    <path d=\"M18.56 5.44l.94 2.06.94-2.06 2.06-.94-2.06-.94-.94-2.06-.94 2.06-2.06.94zm-11 1L8.5 8.5l.94-2.06 2.06-.94-2.06-.94L8.5 2.5l-.94 2.06-2.06.94zm10 10l.94 2.06.94-2.06 2.06-.94-2.06-.94-.94-2.06-.94 2.06-2.06.94z\"/><path d=\"M17.41 7.96l-1.37-1.37c-.4-.4-.92-.59-1.43-.59-.52 0-1.04.2-1.43.59L10.3 9.45l-7.72 7.72c-.78.78-.78 2.05 0 2.83L4 21.41c.39.39.9.59 1.41.59.51 0 1.02-.2 1.41-.59l7.78-7.78 2.81-2.81c.8-.78.8-2.07 0-2.86zM5.41 20L4 18.59l7.72-7.72 1.47 1.35L5.41 20z\"/>\n",
              "  </svg>\n",
              "      </button>\n",
              "      \n",
              "  <style>\n",
              "    .colab-df-container {\n",
              "      display:flex;\n",
              "      flex-wrap:wrap;\n",
              "      gap: 12px;\n",
              "    }\n",
              "\n",
              "    .colab-df-convert {\n",
              "      background-color: #E8F0FE;\n",
              "      border: none;\n",
              "      border-radius: 50%;\n",
              "      cursor: pointer;\n",
              "      display: none;\n",
              "      fill: #1967D2;\n",
              "      height: 32px;\n",
              "      padding: 0 0 0 0;\n",
              "      width: 32px;\n",
              "    }\n",
              "\n",
              "    .colab-df-convert:hover {\n",
              "      background-color: #E2EBFA;\n",
              "      box-shadow: 0px 1px 2px rgba(60, 64, 67, 0.3), 0px 1px 3px 1px rgba(60, 64, 67, 0.15);\n",
              "      fill: #174EA6;\n",
              "    }\n",
              "\n",
              "    [theme=dark] .colab-df-convert {\n",
              "      background-color: #3B4455;\n",
              "      fill: #D2E3FC;\n",
              "    }\n",
              "\n",
              "    [theme=dark] .colab-df-convert:hover {\n",
              "      background-color: #434B5C;\n",
              "      box-shadow: 0px 1px 3px 1px rgba(0, 0, 0, 0.15);\n",
              "      filter: drop-shadow(0px 1px 2px rgba(0, 0, 0, 0.3));\n",
              "      fill: #FFFFFF;\n",
              "    }\n",
              "  </style>\n",
              "\n",
              "      <script>\n",
              "        const buttonEl =\n",
              "          document.querySelector('#df-57e0cec6-9121-4ac8-b880-b633c76e9622 button.colab-df-convert');\n",
              "        buttonEl.style.display =\n",
              "          google.colab.kernel.accessAllowed ? 'block' : 'none';\n",
              "\n",
              "        async function convertToInteractive(key) {\n",
              "          const element = document.querySelector('#df-57e0cec6-9121-4ac8-b880-b633c76e9622');\n",
              "          const dataTable =\n",
              "            await google.colab.kernel.invokeFunction('convertToInteractive',\n",
              "                                                     [key], {});\n",
              "          if (!dataTable) return;\n",
              "\n",
              "          const docLinkHtml = 'Like what you see? Visit the ' +\n",
              "            '<a target=\"_blank\" href=https://colab.research.google.com/notebooks/data_table.ipynb>data table notebook</a>'\n",
              "            + ' to learn more about interactive tables.';\n",
              "          element.innerHTML = '';\n",
              "          dataTable['output_type'] = 'display_data';\n",
              "          await google.colab.output.renderOutput(dataTable, element);\n",
              "          const docLink = document.createElement('div');\n",
              "          docLink.innerHTML = docLinkHtml;\n",
              "          element.appendChild(docLink);\n",
              "        }\n",
              "      </script>\n",
              "    </div>\n",
              "  </div>\n",
              "  "
            ]
          },
          "metadata": {},
          "execution_count": 6
        }
      ]
    },
    {
      "cell_type": "markdown",
      "source": [
        "**Data Visualization**"
      ],
      "metadata": {
        "id": "vlKauMRC3Pba"
      }
    },
    {
      "cell_type": "code",
      "source": [
        "#countplot for categorical variables\n",
        "plt.figure(figsize=(18,10))\n",
        "\n",
        "plt.subplot(2,2,1)\n",
        "sns.countplot(data1['Undergrad'], palette='flare')\n",
        "plt.subplot(2,2,2)\n",
        "sns.countplot(data1['Marital.Status'], palette='flare')\n",
        "\n",
        "plt.subplot(2,2,3)\n",
        "sns.countplot(data1['Urban'], palette='flare')\n",
        "plt.subplot(2,2,4)\n",
        "sns.countplot(data1['loan_asset_type'], palette='flare')\n",
        "\n",
        "plt.show()"
      ],
      "metadata": {
        "colab": {
          "base_uri": "https://localhost:8080/",
          "height": 606
        },
        "id": "AKX-RprX3LMs",
        "outputId": "bb2d54a9-8efc-4eff-a0f1-78a15b837c73"
      },
      "execution_count": 7,
      "outputs": [
        {
          "output_type": "display_data",
          "data": {
            "text/plain": [
              "<Figure size 1296x720 with 4 Axes>"
            ],
            "image/png": "[encoded data removed]"
          },
          "metadata": {
            "needs_background": "light"
          }
        }
      ]
    },
    {
      "cell_type": "code",
      "source": [
        "#Histogram for continuous variables\n",
        "\n",
        "plt.figure(figsize=(18,6))\n",
        "\n",
        "plt.subplot(1,3,1)\n",
        "sns.histplot(data1['Taxable.Income'], bins=range(min(data1['Taxable.Income']), max(data1['Taxable.Income']) + 10000, 10000))\n",
        "\n",
        "plt.subplot(1,3,2)\n",
        "sns.histplot(data1['City.Population'], bins=range(min(data1['City.Population']), max(data1['City.Population']) + 25000, 25000))\n",
        "\n",
        "plt.subplot(1,3,3)\n",
        "sns.histplot(data1['Work.Experience'], bins=range(min(data1['Work.Experience']), max(data1['Work.Experience']) + 5, 5) ) \n",
        "\n",
        "plt.show()"
      ],
      "metadata": {
        "colab": {
          "base_uri": "https://localhost:8080/",
          "height": 390
        },
        "id": "hzMCkBih3TnI",
        "outputId": "170a0e07-b026-4ab3-db24-b5612ee78ef2"
      },
      "execution_count": 8,
      "outputs": [
        {
          "output_type": "display_data",
          "data": {
            "text/plain": [
              "<Figure size 1296x432 with 3 Axes>"
            ],
            "image/png": "[encoded data removed]"
          },
          "metadata": {
            "needs_background": "light"
          }
        }
      ]
    },
    {
      "cell_type": "code",
      "source": [
        "# Box plot for outlier detection\n",
        "plt.figure(figsize=(18,6))\n",
        "\n",
        "plt.subplot(1,3,1)\n",
        "sns.boxplot(data1['Taxable.Income'])\n",
        "\n",
        "plt.subplot(1,3,2)\n",
        "sns.boxplot(data1['City.Population'])\n",
        "\n",
        "plt.subplot(1,3,3)\n",
        "sns.boxplot(data1['Work.Experience'] ) \n",
        "\n",
        "plt.show()\n",
        "\n",
        "# No outliers "
      ],
      "metadata": {
        "colab": {
          "base_uri": "https://localhost:8080/",
          "height": 388
        },
        "id": "QsMOV6Ev3YZK",
        "outputId": "174ba386-4da4-4910-d504-57bce8457b9e"
      },
      "execution_count": 9,
      "outputs": [
        {
          "output_type": "display_data",
          "data": {
            "text/plain": [
              "<Figure size 1296x432 with 3 Axes>"
            ],
            "image/png": "[encoded data removed]"
          },
          "metadata": {
            "needs_background": "light"
          }
        }
      ]
    },
    {
      "cell_type": "code",
      "source": [
        "loan_asset_risky=pd.DataFrame()\n",
        "loan_asset_good=pd.DataFrame()\n",
        "\n",
        "loan_asset_risky = data1.loc[data1['loan_asset_type']=='Risky']\n",
        "\n",
        "loan_asset_good = data1.loc[data1['loan_asset_type']=='Good']"
      ],
      "metadata": {
        "id": "6Pl69JK53bb6"
      },
      "execution_count": 10,
      "outputs": []
    },
    {
      "cell_type": "markdown",
      "source": [
        "**Taxable income wrt fraud**"
      ],
      "metadata": {
        "id": "AM1uIKI63uPA"
      }
    },
    {
      "cell_type": "code",
      "source": [
        "plt.figure(figsize=(15,14))\n",
        "\n",
        "plt.subplot(3,1,1)\n",
        "plt.hist(loan_asset_risky['Taxable.Income'], bins=range(min(data1['Taxable.Income']), max(data1['Taxable.Income']) + 10000, 10000))\n",
        "plt.title('Taxable.Income of those with high risk')\n",
        "\n",
        "plt.subplot(3,1,2)\n",
        "plt.hist(loan_asset_good['Taxable.Income'],  bins=range(min(data1['Taxable.Income']), max(data1['Taxable.Income']) + 10000, 10000))\n",
        "plt.title('Taxable.Income of those with no risk',)\n",
        "\n",
        "\n",
        "\n",
        "income_describe = pd.DataFrame()\n",
        "\n",
        "income_describe['Taxable.Income of those with high risk'] = loan_asset_risky['Taxable.Income'].describe()\n",
        "income_describe['Taxable.Income of those with no risk'] = loan_asset_good['Taxable.Income'].describe()\n",
        "income_describe  = income_describe.drop(['count', '25%', '50%', '75%'])\n",
        "\n",
        "plt.subplot(3,1,2)\n",
        "income_describe.plot.bar()\n",
        "\n",
        "plt.show() \n",
        " "
      ],
      "metadata": {
        "colab": {
          "base_uri": "https://localhost:8080/",
          "height": 823
        },
        "id": "hi27RtCE3kTL",
        "outputId": "f54bc86a-72ca-4edc-c23b-d4591b93bef7"
      },
      "execution_count": 11,
      "outputs": [
        {
          "output_type": "display_data",
          "data": {
            "text/plain": [
              "<Figure size 1080x1008 with 2 Axes>"
            ],
            "image/png": "[encoded data removed]"
          },
          "metadata": {
            "needs_background": "light"
          }
        },
        {
          "output_type": "display_data",
          "data": {
            "text/plain": [
              "<Figure size 432x288 with 1 Axes>"
            ],
            "image/png": "[encoded data removed]"
          },
          "metadata": {
            "needs_background": "light"
          }
        }
      ]
    },
    {
      "cell_type": "markdown",
      "source": [
        "**Work.Experience wrt fraud**"
      ],
      "metadata": {
        "id": "1ujWoGIJ30xf"
      }
    },
    {
      "cell_type": "code",
      "source": [
        "plt.figure(figsize=(15,14))\n",
        "\n",
        "plt.subplot(3,1,1)\n",
        "plt.hist(loan_asset_risky['Work.Experience'], bins=range(min(data1['Work.Experience']), max(data1['Work.Experience']) + 5, 5))\n",
        "plt.title('Work.Experience of those with high risk')\n",
        "\n",
        "plt.subplot(3,1,2)\n",
        "plt.hist(loan_asset_good['Work.Experience'],  bins=range(min(data1['Work.Experience']), max(data1['Work.Experience']) + 5, 5))\n",
        "plt.title('Work.Experience  of those with no risk',)\n",
        "\n",
        "\n",
        "\n",
        "exp_describe = pd.DataFrame()\n",
        "\n",
        "exp_describe['Work.Experience  of those with high risk'] = loan_asset_risky['Work.Experience'].describe()\n",
        "exp_describe['Work.Experience  of those with no risk'] = loan_asset_good['Work.Experience'].describe()\n",
        "exp_describe = exp_describe.drop(['count', '25%', '50%', '75%'])\n",
        "\n",
        "plt.subplot(3,1,2)\n",
        "exp_describe.plot.bar()\n",
        "\n",
        "plt.show() \n",
        " \n"
      ],
      "metadata": {
        "colab": {
          "base_uri": "https://localhost:8080/",
          "height": 823
        },
        "id": "kg9DqwDC3yj0",
        "outputId": "dbb3ffa9-5b6a-4380-b41e-6783b7892e4b"
      },
      "execution_count": 12,
      "outputs": [
        {
          "output_type": "display_data",
          "data": {
            "text/plain": [
              "<Figure size 1080x1008 with 2 Axes>"
            ],
            "image/png": "[encoded data removed]"
          },
          "metadata": {
            "needs_background": "light"
          }
        },
        {
          "output_type": "display_data",
          "data": {
            "text/plain": [
              "<Figure size 432x288 with 1 Axes>"
            ],
            "image/png": "[encoded data removed]"
          },
          "metadata": {
            "needs_background": "light"
          }
        }
      ]
    },
    {
      "cell_type": "markdown",
      "source": [
        "**Undergrad edu wrt fraud**"
      ],
      "metadata": {
        "id": "9g90StXc4A9J"
      }
    },
    {
      "cell_type": "code",
      "source": [
        "plt.figure(figsize=(15,6)) \n",
        "\n",
        "plt.subplot(1,2,1)\n",
        "sns.countplot(loan_asset_risky['Undergrad'])\n",
        "plt.title('Undergrad edu of those with high risk')\n",
        "\n",
        "plt.subplot(1,2,2)\n",
        "sns.countplot(loan_asset_good['Undergrad'])\n",
        "plt.title('Undergrad edu of those with no risk',)\n",
        "\n",
        "plt.show() "
      ],
      "metadata": {
        "colab": {
          "base_uri": "https://localhost:8080/",
          "height": 404
        },
        "id": "1MDnUe3U386i",
        "outputId": "d6c9cba1-fa32-4bfd-8252-1cff5fc91197"
      },
      "execution_count": 13,
      "outputs": [
        {
          "output_type": "display_data",
          "data": {
            "text/plain": [
              "<Figure size 1080x432 with 2 Axes>"
            ],
            "image/png": "[encoded data removed]"
          },
          "metadata": {
            "needs_background": "light"
          }
        }
      ]
    },
    {
      "cell_type": "markdown",
      "source": [
        "**Marital status vs fraud**"
      ],
      "metadata": {
        "id": "E2VLKaIc4JBz"
      }
    },
    {
      "cell_type": "code",
      "source": [
        "plt.figure(figsize=(15,6)) \n",
        "\n",
        "plt.subplot(1,2,1)\n",
        "sns.countplot(loan_asset_risky['Marital.Status'])\n",
        "plt.title('Marital.Status of those with high risk')\n",
        "\n",
        "plt.subplot(1,2,2)\n",
        "sns.countplot(loan_asset_good['Marital.Status'])\n",
        "plt.title('Marital.Status of those with no risk',)\n",
        "\n",
        "plt.show() "
      ],
      "metadata": {
        "colab": {
          "base_uri": "https://localhost:8080/",
          "height": 404
        },
        "id": "cPYUvqaY4E4C",
        "outputId": "79ef7958-9e7b-4c83-a204-d33e10366ef8"
      },
      "execution_count": 14,
      "outputs": [
        {
          "output_type": "display_data",
          "data": {
            "text/plain": [
              "<Figure size 1080x432 with 2 Axes>"
            ],
            "image/png": "[encoded data removed]"
          },
          "metadata": {
            "needs_background": "light"
          }
        }
      ]
    },
    {
      "cell_type": "markdown",
      "source": [
        "**Residence vs fraud**"
      ],
      "metadata": {
        "id": "bfX2GWjG4TrF"
      }
    },
    {
      "cell_type": "code",
      "source": [
        "plt.figure(figsize=(15,6)) \n",
        "\n",
        "plt.subplot(1,2,1)\n",
        "sns.countplot(loan_asset_risky['Urban'])\n",
        "plt.title('Urban residence of those with high risk')\n",
        "\n",
        "plt.subplot(1,2,2)\n",
        "sns.countplot(loan_asset_good['Urban'])\n",
        "plt.title('Urban residence of those with no risk',)\n",
        "\n",
        "plt.show() "
      ],
      "metadata": {
        "colab": {
          "base_uri": "https://localhost:8080/",
          "height": 404
        },
        "id": "GgxVJjn-4NX0",
        "outputId": "6dc7fe01-2d70-46aa-f56d-e0a1cc4e129e"
      },
      "execution_count": 15,
      "outputs": [
        {
          "output_type": "display_data",
          "data": {
            "text/plain": [
              "<Figure size 1080x432 with 2 Axes>"
            ],
            "image/png": "[encoded data removed]"
          },
          "metadata": {
            "needs_background": "light"
          }
        }
      ]
    },
    {
      "cell_type": "markdown",
      "source": [
        "**Data Pre-Processing**"
      ],
      "metadata": {
        "id": "l2rJar-n4ou8"
      }
    },
    {
      "cell_type": "code",
      "source": [
        "data2 = data1.copy()\n",
        "data2 = data2.rename(columns={'Undergrad':'undergrad' , 'Marital.Status':'marital_status', 'Taxable.Income':'taxable_income', 'City.Population':'city_population', 'Work.Experience': 'workxp', 'Urban':'urban'})\n",
        "data2.drop('taxable_income', axis=1, inplace=True) "
      ],
      "metadata": {
        "id": "FnAkQpKH4gUE"
      },
      "execution_count": 16,
      "outputs": []
    },
    {
      "cell_type": "code",
      "source": [
        "data2.head() "
      ],
      "metadata": {
        "colab": {
          "base_uri": "https://localhost:8080/",
          "height": 206
        },
        "id": "HWf45f4T4tPN",
        "outputId": "22d5f7c8-5b07-4731-c9be-413c8a12ad46"
      },
      "execution_count": 17,
      "outputs": [
        {
          "output_type": "execute_result",
          "data": {
            "text/plain": [
              "  undergrad marital_status  city_population  workxp urban loan_asset_type\n",
              "0        NO         Single            50047      10   YES            Good\n",
              "1       YES       Divorced           134075      18   YES            Good\n",
              "2        NO        Married           160205      30   YES            Good\n",
              "3       YES         Single           193264      15   YES            Good\n",
              "4        NO        Married            27533      28    NO            Good"
            ],
            "text/html": [
              "\n",
              "  <div id=\"df-d6c7184e-ff56-4790-b395-c1e74956ca8d\">\n",
              "    <div class=\"colab-df-container\">\n",
              "      <div>\n",
              "<style scoped>\n",
              "    .dataframe tbody tr th:only-of-type {\n",
              "        vertical-align: middle;\n",
              "    }\n",
              "\n",
              "    .dataframe tbody tr th {\n",
              "        vertical-align: top;\n",
              "    }\n",
              "\n",
              "    .dataframe thead th {\n",
              "        text-align: right;\n",
              "    }\n",
              "</style>\n",
              "<table border=\"1\" class=\"dataframe\">\n",
              "  <thead>\n",
              "    <tr style=\"text-align: right;\">\n",
              "      <th></th>\n",
              "      <th>undergrad</th>\n",
              "      <th>marital_status</th>\n",
              "      <th>city_population</th>\n",
              "      <th>workxp</th>\n",
              "      <th>urban</th>\n",
              "      <th>loan_asset_type</th>\n",
              "    </tr>\n",
              "  </thead>\n",
              "  <tbody>\n",
              "    <tr>\n",
              "      <th>0</th>\n",
              "      <td>NO</td>\n",
              "      <td>Single</td>\n",
              "      <td>50047</td>\n",
              "      <td>10</td>\n",
              "      <td>YES</td>\n",
              "      <td>Good</td>\n",
              "    </tr>\n",
              "    <tr>\n",
              "      <th>1</th>\n",
              "      <td>YES</td>\n",
              "      <td>Divorced</td>\n",
              "      <td>134075</td>\n",
              "      <td>18</td>\n",
              "      <td>YES</td>\n",
              "      <td>Good</td>\n",
              "    </tr>\n",
              "    <tr>\n",
              "      <th>2</th>\n",
              "      <td>NO</td>\n",
              "      <td>Married</td>\n",
              "      <td>160205</td>\n",
              "      <td>30</td>\n",
              "      <td>YES</td>\n",
              "      <td>Good</td>\n",
              "    </tr>\n",
              "    <tr>\n",
              "      <th>3</th>\n",
              "      <td>YES</td>\n",
              "      <td>Single</td>\n",
              "      <td>193264</td>\n",
              "      <td>15</td>\n",
              "      <td>YES</td>\n",
              "      <td>Good</td>\n",
              "    </tr>\n",
              "    <tr>\n",
              "      <th>4</th>\n",
              "      <td>NO</td>\n",
              "      <td>Married</td>\n",
              "      <td>27533</td>\n",
              "      <td>28</td>\n",
              "      <td>NO</td>\n",
              "      <td>Good</td>\n",
              "    </tr>\n",
              "  </tbody>\n",
              "</table>\n",
              "</div>\n",
              "      <button class=\"colab-df-convert\" onclick=\"convertToInteractive('df-d6c7184e-ff56-4790-b395-c1e74956ca8d')\"\n",
              "              title=\"Convert this dataframe to an interactive table.\"\n",
              "              style=\"display:none;\">\n",
              "        \n",
              "  <svg xmlns=\"http://www.w3.org/2000/svg\" height=\"24px\"viewBox=\"0 0 24 24\"\n",
              "       width=\"24px\">\n",
              "    <path d=\"M0 0h24v24H0V0z\" fill=\"none\"/>\n",
              "    <path d=\"M18.56 5.44l.94 2.06.94-2.06 2.06-.94-2.06-.94-.94-2.06-.94 2.06-2.06.94zm-11 1L8.5 8.5l.94-2.06 2.06-.94-2.06-.94L8.5 2.5l-.94 2.06-2.06.94zm10 10l.94 2.06.94-2.06 2.06-.94-2.06-.94-.94-2.06-.94 2.06-2.06.94z\"/><path d=\"M17.41 7.96l-1.37-1.37c-.4-.4-.92-.59-1.43-.59-.52 0-1.04.2-1.43.59L10.3 9.45l-7.72 7.72c-.78.78-.78 2.05 0 2.83L4 21.41c.39.39.9.59 1.41.59.51 0 1.02-.2 1.41-.59l7.78-7.78 2.81-2.81c.8-.78.8-2.07 0-2.86zM5.41 20L4 18.59l7.72-7.72 1.47 1.35L5.41 20z\"/>\n",
              "  </svg>\n",
              "      </button>\n",
              "      \n",
              "  <style>\n",
              "    .colab-df-container {\n",
              "      display:flex;\n",
              "      flex-wrap:wrap;\n",
              "      gap: 12px;\n",
              "    }\n",
              "\n",
              "    .colab-df-convert {\n",
              "      background-color: #E8F0FE;\n",
              "      border: none;\n",
              "      border-radius: 50%;\n",
              "      cursor: pointer;\n",
              "      display: none;\n",
              "      fill: #1967D2;\n",
              "      height: 32px;\n",
              "      padding: 0 0 0 0;\n",
              "      width: 32px;\n",
              "    }\n",
              "\n",
              "    .colab-df-convert:hover {\n",
              "      background-color: #E2EBFA;\n",
              "      box-shadow: 0px 1px 2px rgba(60, 64, 67, 0.3), 0px 1px 3px 1px rgba(60, 64, 67, 0.15);\n",
              "      fill: #174EA6;\n",
              "    }\n",
              "\n",
              "    [theme=dark] .colab-df-convert {\n",
              "      background-color: #3B4455;\n",
              "      fill: #D2E3FC;\n",
              "    }\n",
              "\n",
              "    [theme=dark] .colab-df-convert:hover {\n",
              "      background-color: #434B5C;\n",
              "      box-shadow: 0px 1px 3px 1px rgba(0, 0, 0, 0.15);\n",
              "      filter: drop-shadow(0px 1px 2px rgba(0, 0, 0, 0.3));\n",
              "      fill: #FFFFFF;\n",
              "    }\n",
              "  </style>\n",
              "\n",
              "      <script>\n",
              "        const buttonEl =\n",
              "          document.querySelector('#df-d6c7184e-ff56-4790-b395-c1e74956ca8d button.colab-df-convert');\n",
              "        buttonEl.style.display =\n",
              "          google.colab.kernel.accessAllowed ? 'block' : 'none';\n",
              "\n",
              "        async function convertToInteractive(key) {\n",
              "          const element = document.querySelector('#df-d6c7184e-ff56-4790-b395-c1e74956ca8d');\n",
              "          const dataTable =\n",
              "            await google.colab.kernel.invokeFunction('convertToInteractive',\n",
              "                                                     [key], {});\n",
              "          if (!dataTable) return;\n",
              "\n",
              "          const docLinkHtml = 'Like what you see? Visit the ' +\n",
              "            '<a target=\"_blank\" href=https://colab.research.google.com/notebooks/data_table.ipynb>data table notebook</a>'\n",
              "            + ' to learn more about interactive tables.';\n",
              "          element.innerHTML = '';\n",
              "          dataTable['output_type'] = 'display_data';\n",
              "          await google.colab.output.renderOutput(dataTable, element);\n",
              "          const docLink = document.createElement('div');\n",
              "          docLink.innerHTML = docLinkHtml;\n",
              "          element.appendChild(docLink);\n",
              "        }\n",
              "      </script>\n",
              "    </div>\n",
              "  </div>\n",
              "  "
            ]
          },
          "metadata": {},
          "execution_count": 17
        }
      ]
    },
    {
      "cell_type": "code",
      "source": [
        "data2.loan_asset_type.value_counts()"
      ],
      "metadata": {
        "colab": {
          "base_uri": "https://localhost:8080/"
        },
        "id": "c0Ya_fiv4zA-",
        "outputId": "8fdbe12a-5365-415b-c185-92b43b5ccd44"
      },
      "execution_count": 18,
      "outputs": [
        {
          "output_type": "execute_result",
          "data": {
            "text/plain": [
              "Good     476\n",
              "Risky    124\n",
              "Name: loan_asset_type, dtype: int64"
            ]
          },
          "metadata": {},
          "execution_count": 18
        }
      ]
    },
    {
      "cell_type": "code",
      "source": [
        "x = data2.drop('loan_asset_type', axis=1)\n",
        "y = data2['loan_asset_type']"
      ],
      "metadata": {
        "id": "ebinT07i44Mm"
      },
      "execution_count": 19,
      "outputs": []
    },
    {
      "cell_type": "code",
      "source": [
        "x = pd.get_dummies(x) # encoding input categorical variables\n",
        "\n",
        "\n",
        "le = LabelEncoder()\n",
        "y = le.fit_transform(y) # encoding output categorical variables "
      ],
      "metadata": {
        "id": "T6CM5oDv47qu"
      },
      "execution_count": 20,
      "outputs": []
    },
    {
      "cell_type": "code",
      "source": [
        "# Splitting data into training and testing data set\n",
        "x_train, x_test,y_train,y_test = train_test_split(x,y, test_size=0.2,random_state=40) \n",
        "\n",
        "print(\"Shape of X_train: \",x_train.shape)\n",
        "print(\"Shape of X_test: \", x_test.shape)\n",
        "print(\"Shape of y_train: \",y_train.shape)\n",
        "print(\"Shape of y_test\",y_test.shape) "
      ],
      "metadata": {
        "colab": {
          "base_uri": "https://localhost:8080/"
        },
        "id": "cZFJ_n685Aky",
        "outputId": "dcd535ae-392b-4223-a58a-2ddc743cfd57"
      },
      "execution_count": 21,
      "outputs": [
        {
          "output_type": "stream",
          "name": "stdout",
          "text": [
            "Shape of X_train:  (480, 9)\n",
            "Shape of X_test:  (120, 9)\n",
            "Shape of y_train:  (480,)\n",
            "Shape of y_test (120,)\n"
          ]
        }
      ]
    },
    {
      "cell_type": "markdown",
      "source": [
        "**Building Random Forest Classifier**"
      ],
      "metadata": {
        "id": "EZo4v3c-5JHr"
      }
    },
    {
      "cell_type": "code",
      "source": [
        "num_trees = 100\n",
        "max_features = 3\n",
        "\n",
        "kfold = KFold(n_splits=10, random_state=7, shuffle=True)\n",
        "\n",
        "model = RandomForestClassifier(n_estimators=num_trees, max_features=max_features)\n",
        "results = cross_val_score(model, x, y, cv=kfold)\n",
        "\n",
        "print('Batchwise accuracy is:', '\\n', results,'\\n')\n",
        "print('Overall accuracy is:', results.mean())  "
      ],
      "metadata": {
        "colab": {
          "base_uri": "https://localhost:8080/"
        },
        "id": "TNDXmrjB5GES",
        "outputId": "7be83f08-5a3b-43ff-daa2-b3f9837e7fa7"
      },
      "execution_count": 22,
      "outputs": [
        {
          "output_type": "stream",
          "name": "stdout",
          "text": [
            "Batchwise accuracy is: \n",
            " [0.75       0.65       0.78333333 0.8        0.7        0.66666667\n",
            " 0.7        0.63333333 0.8        0.76666667] \n",
            "\n",
            "Overall accuracy is: 0.725\n"
          ]
        }
      ]
    },
    {
      "cell_type": "markdown",
      "source": [
        "**Grid search for hyper parameter tuning**"
      ],
      "metadata": {
        "id": "sPPjIVRh5TJw"
      }
    },
    {
      "cell_type": "code",
      "source": [
        "kfold = KFold(n_splits=10, random_state=7, shuffle=True)\n",
        "\n",
        "param_dict = { \n",
        "    \"criterion\":[\"gini\",\"entropy\"],\n",
        "    'n_estimators':[10,25,50,75,100,125,150],\n",
        "    'max_depth': [2,3,5,10,20],\n",
        "    'min_samples_leaf': [5,10,20,50,100,200]   \n",
        "}\n",
        "\n",
        "rf = RandomForestClassifier(random_state=7)\n",
        "\n",
        "grid = GridSearchCV(rf, param_grid=param_dict, cv=kfold)\n",
        "grid.fit(x, y) "
      ],
      "metadata": {
        "colab": {
          "base_uri": "https://localhost:8080/"
        },
        "id": "Vd2FuXyg5Ox7",
        "outputId": "a63f4b8e-90ea-41b3-df64-7463bac38cb8"
      },
      "execution_count": 23,
      "outputs": [
        {
          "output_type": "execute_result",
          "data": {
            "text/plain": [
              "GridSearchCV(cv=KFold(n_splits=10, random_state=7, shuffle=True),\n",
              "             estimator=RandomForestClassifier(random_state=7),\n",
              "             param_grid={'criterion': ['gini', 'entropy'],\n",
              "                         'max_depth': [2, 3, 5, 10, 20],\n",
              "                         'min_samples_leaf': [5, 10, 20, 50, 100, 200],\n",
              "                         'n_estimators': [10, 25, 50, 75, 100, 125, 150]})"
            ]
          },
          "metadata": {},
          "execution_count": 23
        }
      ]
    },
    {
      "cell_type": "code",
      "source": [
        "print(grid.best_score_)\n",
        "print(grid.best_params_)    "
      ],
      "metadata": {
        "colab": {
          "base_uri": "https://localhost:8080/"
        },
        "id": "8AVMLTJR5W-Q",
        "outputId": "03787950-a5e3-444b-83cc-ff824a1ef7c8"
      },
      "execution_count": 24,
      "outputs": [
        {
          "output_type": "stream",
          "name": "stdout",
          "text": [
            "0.7933333333333332\n",
            "{'criterion': 'gini', 'max_depth': 2, 'min_samples_leaf': 5, 'n_estimators': 10}\n"
          ]
        }
      ]
    },
    {
      "cell_type": "markdown",
      "source": [
        "**Building final model on grid.best_params_ parameters**"
      ],
      "metadata": {
        "id": "NJ37Wekq5eqE"
      }
    },
    {
      "cell_type": "code",
      "source": [
        "model_kf =grid.best_estimator_\n",
        "model_kf.fit(x, y)\n",
        "\n",
        "results = cross_val_score(model_kf, x, y, cv=kfold)\n",
        "print('Accuracy with k fold validation', np.round(results.mean(),3))   "
      ],
      "metadata": {
        "id": "L7_zLATT5fh5"
      },
      "execution_count": null,
      "outputs": []
    },
    {
      "cell_type": "code",
      "source": [
        "model = grid.best_estimator_ \n",
        "model.fit(x_train, y_train)\n",
        "\n",
        "pred=model.predict(x_test)\n",
        "print('Accuracy with train test split:', accuracy_score(y_test, pred)) "
      ],
      "metadata": {
        "colab": {
          "base_uri": "https://localhost:8080/"
        },
        "id": "1ezJGPPe5l3l",
        "outputId": "07e37d5a-11a7-4885-dc3d-20ad56ea3416"
      },
      "execution_count": 26,
      "outputs": [
        {
          "output_type": "stream",
          "name": "stdout",
          "text": [
            "Accuracy with train test split: 0.7666666666666667\n"
          ]
        }
      ]
    },
    {
      "cell_type": "code",
      "source": [
        "print(classification_report(y_test, pred))  "
      ],
      "metadata": {
        "colab": {
          "base_uri": "https://localhost:8080/"
        },
        "id": "4ONuYMvT5s-Z",
        "outputId": "c9c72aaa-7bea-49a1-baff-628013fb497c"
      },
      "execution_count": 27,
      "outputs": [
        {
          "output_type": "stream",
          "name": "stdout",
          "text": [
            "              precision    recall  f1-score   support\n",
            "\n",
            "           0       0.77      1.00      0.87        92\n",
            "           1       0.00      0.00      0.00        28\n",
            "\n",
            "    accuracy                           0.77       120\n",
            "   macro avg       0.38      0.50      0.43       120\n",
            "weighted avg       0.59      0.77      0.67       120\n",
            "\n"
          ]
        }
      ]
    },
    {
      "cell_type": "code",
      "source": [
        "sns.heatmap(confusion_matrix(y_test, pred), annot=True)  "
      ],
      "metadata": {
        "colab": {
          "base_uri": "https://localhost:8080/",
          "height": 282
        },
        "id": "9vt6sJgn5xng",
        "outputId": "0a14da87-2f3b-499a-9482-2bef624a7e03"
      },
      "execution_count": 28,
      "outputs": [
        {
          "output_type": "execute_result",
          "data": {
            "text/plain": [
              "<matplotlib.axes._subplots.AxesSubplot at 0x7fdf1770dd50>"
            ]
          },
          "metadata": {},
          "execution_count": 28
        },
        {
          "output_type": "display_data",
          "data": {
            "text/plain": [
              "<Figure size 432x288 with 2 Axes>"
            ],
            "image/png": "[encoded data removed]"
          },
          "metadata": {
            "needs_background": "light"
          }
        }
      ]
    }
  ]
}